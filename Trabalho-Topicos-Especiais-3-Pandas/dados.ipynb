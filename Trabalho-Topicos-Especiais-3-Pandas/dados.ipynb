{
 "cells": [
  {
   "cell_type": "code",
   "execution_count": 36,
   "metadata": {},
   "outputs": [],
   "source": [
    "import pandas as pd\n",
    "import numpy\n",
    "import matplotlib.pyplot as pp"
   ]
  },
  {
   "cell_type": "code",
   "execution_count": 4,
   "metadata": {},
   "outputs": [],
   "source": [
    "sa = pd.read_csv('Salary_Data.csv')\n"
   ]
  },
  {
   "cell_type": "code",
   "execution_count": 5,
   "metadata": {},
   "outputs": [
    {
     "data": {
      "text/plain": [
       "Index(['YearsExperience', 'Salary'], dtype='object')"
      ]
     },
     "execution_count": 5,
     "metadata": {},
     "output_type": "execute_result"
    }
   ],
   "source": [
    "sa.columns"
   ]
  },
  {
   "cell_type": "code",
   "execution_count": 7,
   "metadata": {},
   "outputs": [
    {
     "data": {
      "text/plain": [
       "array([[1.10000e+00, 3.93430e+04],\n",
       "       [1.30000e+00, 4.62050e+04],\n",
       "       [1.50000e+00, 3.77310e+04],\n",
       "       [2.00000e+00, 4.35250e+04],\n",
       "       [2.20000e+00, 3.98910e+04],\n",
       "       [2.90000e+00, 5.66420e+04],\n",
       "       [3.00000e+00, 6.01500e+04],\n",
       "       [3.20000e+00, 5.44450e+04],\n",
       "       [3.20000e+00, 6.44450e+04],\n",
       "       [3.70000e+00, 5.71890e+04],\n",
       "       [3.90000e+00, 6.32180e+04],\n",
       "       [4.00000e+00, 5.57940e+04],\n",
       "       [4.00000e+00, 5.69570e+04],\n",
       "       [4.10000e+00, 5.70810e+04],\n",
       "       [4.50000e+00, 6.11110e+04],\n",
       "       [4.90000e+00, 6.79380e+04],\n",
       "       [5.10000e+00, 6.60290e+04],\n",
       "       [5.30000e+00, 8.30880e+04],\n",
       "       [5.90000e+00, 8.13630e+04],\n",
       "       [6.00000e+00, 9.39400e+04],\n",
       "       [6.80000e+00, 9.17380e+04],\n",
       "       [7.10000e+00, 9.82730e+04],\n",
       "       [7.90000e+00, 1.01302e+05],\n",
       "       [8.20000e+00, 1.13812e+05],\n",
       "       [8.70000e+00, 1.09431e+05],\n",
       "       [9.00000e+00, 1.05582e+05],\n",
       "       [9.50000e+00, 1.16969e+05],\n",
       "       [9.60000e+00, 1.12635e+05],\n",
       "       [1.03000e+01, 1.22391e+05],\n",
       "       [1.05000e+01, 1.21872e+05]])"
      ]
     },
     "execution_count": 7,
     "metadata": {},
     "output_type": "execute_result"
    }
   ],
   "source": [
    "sa.to_numpy()"
   ]
  },
  {
   "cell_type": "code",
   "execution_count": 59,
   "metadata": {},
   "outputs": [
    {
     "data": {
      "text/plain": [
       "np.float64(65237.0)"
      ]
     },
     "execution_count": 59,
     "metadata": {},
     "output_type": "execute_result"
    }
   ],
   "source": [
    "sa.median()"
   ]
  },
  {
   "cell_type": "code",
   "execution_count": 35,
   "metadata": {},
   "outputs": [
    {
     "name": "stdout",
     "output_type": "stream",
     "text": [
      "Media do Salário de funcionarios com mais de 5 anos de experiência:  103442.0 !\n"
     ]
    }
   ],
   "source": [
    "sa_media_experiencia = sa[sa['YearsExperience'] > 5]\n",
    "sa_media_salario = sa_media_experiencia['Salary']\n",
    "media = sa_media_salario.median()\n",
    "print(\"Media do Salário de funcionarios com mais de 5 anos de experiência: \", media,'!')"
   ]
  },
  {
   "cell_type": "code",
   "execution_count": 37,
   "metadata": {},
   "outputs": [
    {
     "data": {
      "text/plain": [
       "<Axes: xlabel='Salary', ylabel='YearsExperience'>"
      ]
     },
     "execution_count": 37,
     "metadata": {},
     "output_type": "execute_result"
    },
    {
     "data": {
      "image/png": "[encoded data removed]",
      "text/plain": [
       "<Figure size 640x480 with 1 Axes>"
      ]
     },
     "metadata": {},
     "output_type": "display_data"
    }
   ],
   "source": [
    "sa.plot.scatter('Salary', 'YearsExperience')"
   ]
  },
  {
   "cell_type": "markdown",
   "metadata": {},
   "source": [
    "Aumentando em 10% o salario de todos os funcionarios"
   ]
  },
  {
   "cell_type": "code",
   "execution_count": 53,
   "metadata": {},
   "outputs": [],
   "source": [
    "sa_novo_salario = sa.mul({'YearsExperience' : 1, 'Salary' : 1.10})"
   ]
  },
  {
   "cell_type": "code",
   "execution_count": 57,
   "metadata": {},
   "outputs": [
    {
     "name": "stdout",
     "output_type": "stream",
     "text": [
      "Salario dos funcionarios\n"
     ]
    },
    {
     "data": {
      "text/plain": [
       "0          39343.0\n",
       "1          46205.0\n",
       "2          37731.0\n",
       "3          43525.0\n",
       "4          39891.0\n",
       "5          56642.0\n",
       "6          60150.0\n",
       "7          54445.0\n",
       "8          64445.0\n",
       "9          57189.0\n",
       "10         63218.0\n",
       "11         55794.0\n",
       "12         56957.0\n",
       "13         57081.0\n",
       "14         61111.0\n",
       "15         67938.0\n",
       "16         66029.0\n",
       "17         83088.0\n",
       "18         81363.0\n",
       "19         93940.0\n",
       "20         91738.0\n",
       "21         98273.0\n",
       "22        101302.0\n",
       "23        113812.0\n",
       "24        109431.0\n",
       "25        105582.0\n",
       "26        116969.0\n",
       "27        112635.0\n",
       "28        122391.0\n",
       "29        121872.0\n",
       "Salary         NaN\n",
       "Name: Salary, dtype: float64"
      ]
     },
     "execution_count": 57,
     "metadata": {},
     "output_type": "execute_result"
    }
   ],
   "source": [
    "print('Salario dos funcionarios')\n",
    "sa['Salary']"
   ]
  },
  {
   "cell_type": "code",
   "execution_count": 58,
   "metadata": {},
   "outputs": [
    {
     "name": "stdout",
     "output_type": "stream",
     "text": [
      "Salario dos funcionarios com aumento de 10%\n"
     ]
    },
    {
     "data": {
      "text/plain": [
       "0          43277.3\n",
       "1          50825.5\n",
       "2          41504.1\n",
       "3          47877.5\n",
       "4          43880.1\n",
       "5          62306.2\n",
       "6          66165.0\n",
       "7          59889.5\n",
       "8          70889.5\n",
       "9          62907.9\n",
       "10         69539.8\n",
       "11         61373.4\n",
       "12         62652.7\n",
       "13         62789.1\n",
       "14         67222.1\n",
       "15         74731.8\n",
       "16         72631.9\n",
       "17         91396.8\n",
       "18         89499.3\n",
       "19        103334.0\n",
       "20        100911.8\n",
       "21        108100.3\n",
       "22        111432.2\n",
       "23        125193.2\n",
       "24        120374.1\n",
       "25        116140.2\n",
       "26        128665.9\n",
       "27        123898.5\n",
       "28        134630.1\n",
       "29        134059.2\n",
       "Salary         NaN\n",
       "Name: Salary, dtype: float64"
      ]
     },
     "execution_count": 58,
     "metadata": {},
     "output_type": "execute_result"
    }
   ],
   "source": [
    "print('Salario dos funcionarios com aumento de 10%')\n",
    "sa_novo_salario['Salary']"
   ]
  }
 ],
 "metadata": {
  "kernelspec": {
   "display_name": "Python 3",
   "language": "python",
   "name": "python3"
  },
  "language_info": {
   "codemirror_mode": {
    "name": "ipython",
    "version": 3
   },
   "file_extension": ".py",
   "mimetype": "text/x-python",
   "name": "python",
   "nbconvert_exporter": "python",
   "pygments_lexer": "ipython3",
   "version": "3.12.6"
  }
 },
 "nbformat": 4,
 "nbformat_minor": 2
}
